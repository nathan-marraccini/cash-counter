{
 "cells": [
  {
   "cell_type": "markdown",
   "metadata": {},
   "source": [
    "Set up Ultralytics Package for Development"
   ]
  },
  {
   "cell_type": "code",
   "execution_count": 15,
   "metadata": {},
   "outputs": [
    {
     "name": "stdout",
     "output_type": "stream",
     "text": [
      "fatal: destination path 'ultralytics' already exists and is not an empty directory.\n",
      "Obtaining file:///Users/nathanmarraccini/Desktop/CV%20Projects/ultralytics\n",
      "  Installing build dependencies ... \u001b[?25ldone\n",
      "\u001b[?25h  Checking if build backend supports build_editable ... \u001b[?25ldone\n",
      "\u001b[?25h  Getting requirements to build editable ... \u001b[?25ldone\n",
      "\u001b[?25h  Preparing editable metadata (pyproject.toml) ... \u001b[?25ldone\n",
      "\u001b[?25hRequirement already satisfied: matplotlib>=3.3.0 in /Users/nathanmarraccini/anaconda3/envs/roboflow/lib/python3.8/site-packages (from ultralytics==8.0.234) (3.7.3)\n",
      "Requirement already satisfied: numpy>=1.22.2 in /Users/nathanmarraccini/anaconda3/envs/roboflow/lib/python3.8/site-packages (from ultralytics==8.0.234) (1.24.4)\n",
      "Requirement already satisfied: opencv-python>=4.6.0 in /Users/nathanmarraccini/anaconda3/envs/roboflow/lib/python3.8/site-packages (from ultralytics==8.0.234) (4.8.0.76)\n",
      "Requirement already satisfied: pillow>=7.1.2 in /Users/nathanmarraccini/anaconda3/envs/roboflow/lib/python3.8/site-packages (from ultralytics==8.0.234) (10.0.1)\n",
      "Requirement already satisfied: pyyaml>=5.3.1 in /Users/nathanmarraccini/anaconda3/envs/roboflow/lib/python3.8/site-packages (from ultralytics==8.0.234) (6.0.1)\n",
      "Requirement already satisfied: requests>=2.23.0 in /Users/nathanmarraccini/anaconda3/envs/roboflow/lib/python3.8/site-packages (from ultralytics==8.0.234) (2.31.0)\n",
      "Requirement already satisfied: scipy>=1.4.1 in /Users/nathanmarraccini/anaconda3/envs/roboflow/lib/python3.8/site-packages (from ultralytics==8.0.234) (1.10.1)\n",
      "Requirement already satisfied: torch>=1.8.0 in /Users/nathanmarraccini/anaconda3/envs/roboflow/lib/python3.8/site-packages (from ultralytics==8.0.234) (2.1.0)\n",
      "Requirement already satisfied: torchvision>=0.9.0 in /Users/nathanmarraccini/anaconda3/envs/roboflow/lib/python3.8/site-packages (from ultralytics==8.0.234) (0.16.0)\n",
      "Requirement already satisfied: tqdm>=4.64.0 in /Users/nathanmarraccini/anaconda3/envs/roboflow/lib/python3.8/site-packages (from ultralytics==8.0.234) (4.66.1)\n",
      "Requirement already satisfied: psutil in /Users/nathanmarraccini/anaconda3/envs/roboflow/lib/python3.8/site-packages (from ultralytics==8.0.234) (5.9.0)\n",
      "Requirement already satisfied: py-cpuinfo in /Users/nathanmarraccini/anaconda3/envs/roboflow/lib/python3.8/site-packages (from ultralytics==8.0.234) (9.0.0)\n",
      "Requirement already satisfied: thop>=0.1.1 in /Users/nathanmarraccini/anaconda3/envs/roboflow/lib/python3.8/site-packages (from ultralytics==8.0.234) (0.1.1.post2209072238)\n",
      "Requirement already satisfied: pandas>=1.1.4 in /Users/nathanmarraccini/anaconda3/envs/roboflow/lib/python3.8/site-packages (from ultralytics==8.0.234) (2.0.3)\n",
      "Requirement already satisfied: seaborn>=0.11.0 in /Users/nathanmarraccini/anaconda3/envs/roboflow/lib/python3.8/site-packages (from ultralytics==8.0.234) (0.13.0)\n",
      "Requirement already satisfied: contourpy>=1.0.1 in /Users/nathanmarraccini/anaconda3/envs/roboflow/lib/python3.8/site-packages (from matplotlib>=3.3.0->ultralytics==8.0.234) (1.1.1)\n",
      "Requirement already satisfied: cycler>=0.10 in /Users/nathanmarraccini/anaconda3/envs/roboflow/lib/python3.8/site-packages (from matplotlib>=3.3.0->ultralytics==8.0.234) (0.10.0)\n",
      "Requirement already satisfied: fonttools>=4.22.0 in /Users/nathanmarraccini/anaconda3/envs/roboflow/lib/python3.8/site-packages (from matplotlib>=3.3.0->ultralytics==8.0.234) (4.43.1)\n",
      "Requirement already satisfied: kiwisolver>=1.0.1 in /Users/nathanmarraccini/anaconda3/envs/roboflow/lib/python3.8/site-packages (from matplotlib>=3.3.0->ultralytics==8.0.234) (1.4.5)\n",
      "Requirement already satisfied: packaging>=20.0 in /Users/nathanmarraccini/anaconda3/envs/roboflow/lib/python3.8/site-packages (from matplotlib>=3.3.0->ultralytics==8.0.234) (23.2)\n",
      "Requirement already satisfied: pyparsing>=2.3.1 in /Users/nathanmarraccini/anaconda3/envs/roboflow/lib/python3.8/site-packages (from matplotlib>=3.3.0->ultralytics==8.0.234) (2.4.7)\n",
      "Requirement already satisfied: python-dateutil>=2.7 in /Users/nathanmarraccini/anaconda3/envs/roboflow/lib/python3.8/site-packages (from matplotlib>=3.3.0->ultralytics==8.0.234) (2.8.2)\n",
      "Requirement already satisfied: importlib-resources>=3.2.0 in /Users/nathanmarraccini/anaconda3/envs/roboflow/lib/python3.8/site-packages (from matplotlib>=3.3.0->ultralytics==8.0.234) (6.1.0)\n",
      "Requirement already satisfied: pytz>=2020.1 in /Users/nathanmarraccini/anaconda3/envs/roboflow/lib/python3.8/site-packages (from pandas>=1.1.4->ultralytics==8.0.234) (2023.3.post1)\n",
      "Requirement already satisfied: tzdata>=2022.1 in /Users/nathanmarraccini/anaconda3/envs/roboflow/lib/python3.8/site-packages (from pandas>=1.1.4->ultralytics==8.0.234) (2023.3)\n",
      "Requirement already satisfied: charset-normalizer<4,>=2 in /Users/nathanmarraccini/anaconda3/envs/roboflow/lib/python3.8/site-packages (from requests>=2.23.0->ultralytics==8.0.234) (3.3.0)\n",
      "Requirement already satisfied: idna<4,>=2.5 in /Users/nathanmarraccini/anaconda3/envs/roboflow/lib/python3.8/site-packages (from requests>=2.23.0->ultralytics==8.0.234) (2.10)\n",
      "Requirement already satisfied: urllib3<3,>=1.21.1 in /Users/nathanmarraccini/anaconda3/envs/roboflow/lib/python3.8/site-packages (from requests>=2.23.0->ultralytics==8.0.234) (2.0.6)\n",
      "Requirement already satisfied: certifi>=2017.4.17 in /Users/nathanmarraccini/anaconda3/envs/roboflow/lib/python3.8/site-packages (from requests>=2.23.0->ultralytics==8.0.234) (2023.7.22)\n",
      "Requirement already satisfied: filelock in /Users/nathanmarraccini/anaconda3/envs/roboflow/lib/python3.8/site-packages (from torch>=1.8.0->ultralytics==8.0.234) (3.12.4)\n",
      "Requirement already satisfied: typing-extensions in /Users/nathanmarraccini/anaconda3/envs/roboflow/lib/python3.8/site-packages (from torch>=1.8.0->ultralytics==8.0.234) (4.8.0)\n",
      "Requirement already satisfied: sympy in /Users/nathanmarraccini/anaconda3/envs/roboflow/lib/python3.8/site-packages (from torch>=1.8.0->ultralytics==8.0.234) (1.12)\n",
      "Requirement already satisfied: networkx in /Users/nathanmarraccini/anaconda3/envs/roboflow/lib/python3.8/site-packages (from torch>=1.8.0->ultralytics==8.0.234) (3.1)\n",
      "Requirement already satisfied: jinja2 in /Users/nathanmarraccini/anaconda3/envs/roboflow/lib/python3.8/site-packages (from torch>=1.8.0->ultralytics==8.0.234) (3.1.2)\n",
      "Requirement already satisfied: fsspec in /Users/nathanmarraccini/anaconda3/envs/roboflow/lib/python3.8/site-packages (from torch>=1.8.0->ultralytics==8.0.234) (2023.9.2)\n",
      "Requirement already satisfied: six in /Users/nathanmarraccini/anaconda3/envs/roboflow/lib/python3.8/site-packages (from cycler>=0.10->matplotlib>=3.3.0->ultralytics==8.0.234) (1.16.0)\n",
      "Requirement already satisfied: zipp>=3.1.0 in /Users/nathanmarraccini/anaconda3/envs/roboflow/lib/python3.8/site-packages (from importlib-resources>=3.2.0->matplotlib>=3.3.0->ultralytics==8.0.234) (3.17.0)\n",
      "Requirement already satisfied: MarkupSafe>=2.0 in /Users/nathanmarraccini/anaconda3/envs/roboflow/lib/python3.8/site-packages (from jinja2->torch>=1.8.0->ultralytics==8.0.234) (2.1.3)\n",
      "Requirement already satisfied: mpmath>=0.19 in /Users/nathanmarraccini/anaconda3/envs/roboflow/lib/python3.8/site-packages (from sympy->torch>=1.8.0->ultralytics==8.0.234) (1.3.0)\n",
      "Building wheels for collected packages: ultralytics\n",
      "  Building editable for ultralytics (pyproject.toml) ... \u001b[?25ldone\n",
      "\u001b[?25h  Created wheel for ultralytics: filename=ultralytics-8.0.234-0.editable-py3-none-any.whl size=21760 sha256=9872a9da329a16aa91186f6d1f3da7af68a086674af0acd9b341a67f00afa59b\n",
      "  Stored in directory: /private/var/folders/_x/_njh500d2rb3n6pm8g0s7f700000gp/T/pip-ephem-wheel-cache-8oh7r98j/wheels/62/35/b7/421274daf6edfad66bcaebb1ef49dc99d01b47ca26fbb665a8\n",
      "Successfully built ultralytics\n",
      "Installing collected packages: ultralytics\n",
      "  Attempting uninstall: ultralytics\n",
      "    Found existing installation: ultralytics 8.0.234\n",
      "    Uninstalling ultralytics-8.0.234:\n",
      "      Successfully uninstalled ultralytics-8.0.234\n",
      "\u001b[31mERROR: pip's dependency resolver does not currently take into account all the packages that are installed. This behaviour is the source of the following dependency conflicts.\n",
      "autodistill-yolov8 0.1.1 requires ultralytics==8.0.81, but you have ultralytics 8.0.234 which is incompatible.\u001b[0m\u001b[31m\n",
      "\u001b[0mSuccessfully installed ultralytics-8.0.234\n"
     ]
    }
   ],
   "source": [
    "! git clone https://github.com/ultralytics/ultralytics\n",
    "! cd ultralytics\n",
    "! pip install -e ultralytics"
   ]
  },
  {
   "cell_type": "markdown",
   "metadata": {},
   "source": [
    "Install Ultralytics Package"
   ]
  },
  {
   "cell_type": "code",
   "execution_count": 17,
   "metadata": {},
   "outputs": [
    {
     "name": "stdout",
     "output_type": "stream",
     "text": [
      "Requirement already satisfied: ultralytics in /Users/nathanmarraccini/anaconda3/envs/roboflow/lib/python3.8/site-packages (8.0.234)\n",
      "Requirement already satisfied: matplotlib>=3.3.0 in /Users/nathanmarraccini/anaconda3/envs/roboflow/lib/python3.8/site-packages (from ultralytics) (3.7.3)\n",
      "Requirement already satisfied: numpy>=1.22.2 in /Users/nathanmarraccini/anaconda3/envs/roboflow/lib/python3.8/site-packages (from ultralytics) (1.24.4)\n",
      "Requirement already satisfied: opencv-python>=4.6.0 in /Users/nathanmarraccini/anaconda3/envs/roboflow/lib/python3.8/site-packages (from ultralytics) (4.8.0.76)\n",
      "Requirement already satisfied: pillow>=7.1.2 in /Users/nathanmarraccini/anaconda3/envs/roboflow/lib/python3.8/site-packages (from ultralytics) (10.0.1)\n",
      "Requirement already satisfied: pyyaml>=5.3.1 in /Users/nathanmarraccini/anaconda3/envs/roboflow/lib/python3.8/site-packages (from ultralytics) (6.0.1)\n",
      "Requirement already satisfied: requests>=2.23.0 in /Users/nathanmarraccini/anaconda3/envs/roboflow/lib/python3.8/site-packages (from ultralytics) (2.31.0)\n",
      "Requirement already satisfied: scipy>=1.4.1 in /Users/nathanmarraccini/anaconda3/envs/roboflow/lib/python3.8/site-packages (from ultralytics) (1.10.1)\n",
      "Requirement already satisfied: torch>=1.8.0 in /Users/nathanmarraccini/anaconda3/envs/roboflow/lib/python3.8/site-packages (from ultralytics) (2.1.0)\n",
      "Requirement already satisfied: torchvision>=0.9.0 in /Users/nathanmarraccini/anaconda3/envs/roboflow/lib/python3.8/site-packages (from ultralytics) (0.16.0)\n",
      "Requirement already satisfied: tqdm>=4.64.0 in /Users/nathanmarraccini/anaconda3/envs/roboflow/lib/python3.8/site-packages (from ultralytics) (4.66.1)\n",
      "Requirement already satisfied: psutil in /Users/nathanmarraccini/anaconda3/envs/roboflow/lib/python3.8/site-packages (from ultralytics) (5.9.0)\n",
      "Requirement already satisfied: py-cpuinfo in /Users/nathanmarraccini/anaconda3/envs/roboflow/lib/python3.8/site-packages (from ultralytics) (9.0.0)\n",
      "Requirement already satisfied: thop>=0.1.1 in /Users/nathanmarraccini/anaconda3/envs/roboflow/lib/python3.8/site-packages (from ultralytics) (0.1.1.post2209072238)\n",
      "Requirement already satisfied: pandas>=1.1.4 in /Users/nathanmarraccini/anaconda3/envs/roboflow/lib/python3.8/site-packages (from ultralytics) (2.0.3)\n",
      "Requirement already satisfied: seaborn>=0.11.0 in /Users/nathanmarraccini/anaconda3/envs/roboflow/lib/python3.8/site-packages (from ultralytics) (0.13.0)\n",
      "Requirement already satisfied: contourpy>=1.0.1 in /Users/nathanmarraccini/anaconda3/envs/roboflow/lib/python3.8/site-packages (from matplotlib>=3.3.0->ultralytics) (1.1.1)\n",
      "Requirement already satisfied: cycler>=0.10 in /Users/nathanmarraccini/anaconda3/envs/roboflow/lib/python3.8/site-packages (from matplotlib>=3.3.0->ultralytics) (0.10.0)\n",
      "Requirement already satisfied: fonttools>=4.22.0 in /Users/nathanmarraccini/anaconda3/envs/roboflow/lib/python3.8/site-packages (from matplotlib>=3.3.0->ultralytics) (4.43.1)\n",
      "Requirement already satisfied: kiwisolver>=1.0.1 in /Users/nathanmarraccini/anaconda3/envs/roboflow/lib/python3.8/site-packages (from matplotlib>=3.3.0->ultralytics) (1.4.5)\n",
      "Requirement already satisfied: packaging>=20.0 in /Users/nathanmarraccini/anaconda3/envs/roboflow/lib/python3.8/site-packages (from matplotlib>=3.3.0->ultralytics) (23.2)\n",
      "Requirement already satisfied: pyparsing>=2.3.1 in /Users/nathanmarraccini/anaconda3/envs/roboflow/lib/python3.8/site-packages (from matplotlib>=3.3.0->ultralytics) (2.4.7)\n",
      "Requirement already satisfied: python-dateutil>=2.7 in /Users/nathanmarraccini/anaconda3/envs/roboflow/lib/python3.8/site-packages (from matplotlib>=3.3.0->ultralytics) (2.8.2)\n",
      "Requirement already satisfied: importlib-resources>=3.2.0 in /Users/nathanmarraccini/anaconda3/envs/roboflow/lib/python3.8/site-packages (from matplotlib>=3.3.0->ultralytics) (6.1.0)\n",
      "Requirement already satisfied: pytz>=2020.1 in /Users/nathanmarraccini/anaconda3/envs/roboflow/lib/python3.8/site-packages (from pandas>=1.1.4->ultralytics) (2023.3.post1)\n",
      "Requirement already satisfied: tzdata>=2022.1 in /Users/nathanmarraccini/anaconda3/envs/roboflow/lib/python3.8/site-packages (from pandas>=1.1.4->ultralytics) (2023.3)\n",
      "Requirement already satisfied: charset-normalizer<4,>=2 in /Users/nathanmarraccini/anaconda3/envs/roboflow/lib/python3.8/site-packages (from requests>=2.23.0->ultralytics) (3.3.0)\n",
      "Requirement already satisfied: idna<4,>=2.5 in /Users/nathanmarraccini/anaconda3/envs/roboflow/lib/python3.8/site-packages (from requests>=2.23.0->ultralytics) (2.10)\n",
      "Requirement already satisfied: urllib3<3,>=1.21.1 in /Users/nathanmarraccini/anaconda3/envs/roboflow/lib/python3.8/site-packages (from requests>=2.23.0->ultralytics) (2.0.6)\n",
      "Requirement already satisfied: certifi>=2017.4.17 in /Users/nathanmarraccini/anaconda3/envs/roboflow/lib/python3.8/site-packages (from requests>=2.23.0->ultralytics) (2023.7.22)\n",
      "Requirement already satisfied: filelock in /Users/nathanmarraccini/anaconda3/envs/roboflow/lib/python3.8/site-packages (from torch>=1.8.0->ultralytics) (3.12.4)\n",
      "Requirement already satisfied: typing-extensions in /Users/nathanmarraccini/anaconda3/envs/roboflow/lib/python3.8/site-packages (from torch>=1.8.0->ultralytics) (4.8.0)\n",
      "Requirement already satisfied: sympy in /Users/nathanmarraccini/anaconda3/envs/roboflow/lib/python3.8/site-packages (from torch>=1.8.0->ultralytics) (1.12)\n",
      "Requirement already satisfied: networkx in /Users/nathanmarraccini/anaconda3/envs/roboflow/lib/python3.8/site-packages (from torch>=1.8.0->ultralytics) (3.1)\n",
      "Requirement already satisfied: jinja2 in /Users/nathanmarraccini/anaconda3/envs/roboflow/lib/python3.8/site-packages (from torch>=1.8.0->ultralytics) (3.1.2)\n",
      "Requirement already satisfied: fsspec in /Users/nathanmarraccini/anaconda3/envs/roboflow/lib/python3.8/site-packages (from torch>=1.8.0->ultralytics) (2023.9.2)\n",
      "Requirement already satisfied: six in /Users/nathanmarraccini/anaconda3/envs/roboflow/lib/python3.8/site-packages (from cycler>=0.10->matplotlib>=3.3.0->ultralytics) (1.16.0)\n",
      "Requirement already satisfied: zipp>=3.1.0 in /Users/nathanmarraccini/anaconda3/envs/roboflow/lib/python3.8/site-packages (from importlib-resources>=3.2.0->matplotlib>=3.3.0->ultralytics) (3.17.0)\n",
      "Requirement already satisfied: MarkupSafe>=2.0 in /Users/nathanmarraccini/anaconda3/envs/roboflow/lib/python3.8/site-packages (from jinja2->torch>=1.8.0->ultralytics) (2.1.3)\n",
      "Requirement already satisfied: mpmath>=0.19 in /Users/nathanmarraccini/anaconda3/envs/roboflow/lib/python3.8/site-packages (from sympy->torch>=1.8.0->ultralytics) (1.3.0)\n"
     ]
    }
   ],
   "source": [
    "! pip install ultralytics"
   ]
  },
  {
   "cell_type": "markdown",
   "metadata": {},
   "source": [
    "Train Your Model"
   ]
  },
  {
   "cell_type": "code",
   "execution_count": 12,
   "metadata": {},
   "outputs": [
    {
     "name": "stdout",
     "output_type": "stream",
     "text": [
      "Ultralytics YOLOv8.0.234 🚀 Python-3.8.18 torch-2.1.0 CPU (Apple M2)\n",
      "\u001b[34m\u001b[1mengine/trainer: \u001b[0mtask=detect, mode=train, model=yolov8s.pt, data=Cash_Counter.v11-yolov8s.yolov8.zip, epochs=100, time=None, patience=50, batch=16, imgsz=640, save=True, save_period=-1, cache=False, device=None, workers=8, project=None, name=train7, exist_ok=False, pretrained=True, optimizer=auto, verbose=True, seed=0, deterministic=True, single_cls=False, rect=False, cos_lr=False, close_mosaic=10, resume=False, amp=True, fraction=1.0, profile=False, freeze=None, overlap_mask=True, mask_ratio=4, dropout=0.0, val=True, split=val, save_json=False, save_hybrid=False, conf=None, iou=0.7, max_det=300, half=False, dnn=False, plots=True, source=None, vid_stride=1, stream_buffer=False, visualize=False, augment=False, agnostic_nms=False, classes=None, retina_masks=False, embed=None, show=False, save_frames=False, save_txt=False, save_conf=False, save_crop=False, show_labels=True, show_conf=True, show_boxes=True, line_width=None, format=torchscript, keras=False, optimize=False, int8=False, dynamic=False, simplify=False, opset=None, workspace=4, nms=False, lr0=0.01, lrf=0.01, momentum=0.937, weight_decay=0.0005, warmup_epochs=3.0, warmup_momentum=0.8, warmup_bias_lr=0.1, box=7.5, cls=0.5, dfl=1.5, pose=12.0, kobj=1.0, label_smoothing=0.0, nbs=64, hsv_h=0.015, hsv_s=0.7, hsv_v=0.4, degrees=0.0, translate=0.1, scale=0.5, shear=0.0, perspective=0.0, flipud=0.0, fliplr=0.5, mosaic=1.0, mixup=0.0, copy_paste=0.0, auto_augment=randaugment, erasing=0.4, crop_fraction=1.0, cfg=None, tracker=botsort.yaml, save_dir=/Users/nathanmarraccini/Desktop/CV Projects/ultralytics/runs/detect/train7\n",
      "Unzipping Cash_Counter.v11-yolov8s.yolov8.zip to /Users/nathanmarraccini/Desktop\n",
      "Overriding model.yaml nc=80 with nc=10\n",
      "\n",
      "                   from  n    params  module                                       arguments                     \n",
      "  0                  -1  1       928  ultralytics.nn.modules.conv.Conv             [3, 32, 3, 2]                 \n",
      "  1                  -1  1     18560  ultralytics.nn.modules.conv.Conv             [32, 64, 3, 2]                \n",
      "  2                  -1  1     29056  ultralytics.nn.modules.block.C2f             [64, 64, 1, True]             \n",
      "  3                  -1  1     73984  ultralytics.nn.modules.conv.Conv             [64, 128, 3, 2]               \n",
      "  4                  -1  2    197632  ultralytics.nn.modules.block.C2f             [128, 128, 2, True]           \n",
      "  5                  -1  1    295424  ultralytics.nn.modules.conv.Conv             [128, 256, 3, 2]              \n",
      "  6                  -1  2    788480  ultralytics.nn.modules.block.C2f             [256, 256, 2, True]           \n",
      "  7                  -1  1   1180672  ultralytics.nn.modules.conv.Conv             [256, 512, 3, 2]              \n",
      "  8                  -1  1   1838080  ultralytics.nn.modules.block.C2f             [512, 512, 1, True]           \n",
      "  9                  -1  1    656896  ultralytics.nn.modules.block.SPPF            [512, 512, 5]                 \n",
      " 10                  -1  1         0  torch.nn.modules.upsampling.Upsample         [None, 2, 'nearest']          \n",
      " 11             [-1, 6]  1         0  ultralytics.nn.modules.conv.Concat           [1]                           \n",
      " 12                  -1  1    591360  ultralytics.nn.modules.block.C2f             [768, 256, 1]                 \n",
      " 13                  -1  1         0  torch.nn.modules.upsampling.Upsample         [None, 2, 'nearest']          \n",
      " 14             [-1, 4]  1         0  ultralytics.nn.modules.conv.Concat           [1]                           \n",
      " 15                  -1  1    148224  ultralytics.nn.modules.block.C2f             [384, 128, 1]                 \n",
      " 16                  -1  1    147712  ultralytics.nn.modules.conv.Conv             [128, 128, 3, 2]              \n",
      " 17            [-1, 12]  1         0  ultralytics.nn.modules.conv.Concat           [1]                           \n",
      " 18                  -1  1    493056  ultralytics.nn.modules.block.C2f             [384, 256, 1]                 \n",
      " 19                  -1  1    590336  ultralytics.nn.modules.conv.Conv             [256, 256, 3, 2]              \n",
      " 20             [-1, 9]  1         0  ultralytics.nn.modules.conv.Concat           [1]                           \n",
      " 21                  -1  1   1969152  ultralytics.nn.modules.block.C2f             [768, 512, 1]                 \n",
      " 22        [15, 18, 21]  1   2119918  ultralytics.nn.modules.head.Detect           [10, [128, 256, 512]]         \n",
      "Model summary: 225 layers, 11139470 parameters, 11139454 gradients, 28.7 GFLOPs\n",
      "\n",
      "Transferred 349/355 items from pretrained weights\n",
      "Freezing layer 'model.22.dfl.conv.weight'\n",
      "\u001b[34m\u001b[1mtrain: \u001b[0mScanning /Users/nathanmarraccini/Desktop/CV Projects/datasets/Cash_Counte\u001b[0m\n",
      "\u001b[34m\u001b[1mtrain: \u001b[0mNew cache created: /Users/nathanmarraccini/Desktop/CV Projects/datasets/Cash_Counter.v11-yolov8s.yolov8/train/labels.cache\n",
      "WARNING ⚠️ Box and segment counts should be equal, but got len(segments) = 497, len(boxes) = 13857. To resolve this only boxes will be used and all segments will be removed. To avoid this please supply either a detect or segment dataset, not a detect-segment mixed dataset.\n",
      "\u001b[34m\u001b[1mval: \u001b[0mScanning /Users/nathanmarraccini/Desktop/CV Projects/datasets/Cash_Counter.\u001b[0m\n",
      "\u001b[34m\u001b[1mval: \u001b[0mNew cache created: /Users/nathanmarraccini/Desktop/CV Projects/datasets/Cash_Counter.v11-yolov8s.yolov8/valid/labels.cache\n",
      "WARNING ⚠️ Box and segment counts should be equal, but got len(segments) = 38, len(boxes) = 1379. To resolve this only boxes will be used and all segments will be removed. To avoid this please supply either a detect or segment dataset, not a detect-segment mixed dataset.\n",
      "Plotting labels to /Users/nathanmarraccini/Desktop/CV Projects/ultralytics/runs/detect/train7/labels.jpg... \n",
      "\u001b[34m\u001b[1moptimizer:\u001b[0m 'optimizer=auto' found, ignoring 'lr0=0.01' and 'momentum=0.937' and determining best 'optimizer', 'lr0' and 'momentum' automatically... \n",
      "\u001b[34m\u001b[1moptimizer:\u001b[0m AdamW(lr=0.000714, momentum=0.9) with parameter groups 57 weight(decay=0.0), 64 weight(decay=0.0005), 63 bias(decay=0.0)\n",
      "100 epochs...\n",
      "\n",
      "      Epoch    GPU_mem   box_loss   cls_loss   dfl_loss  Instances       Size\n",
      "      1/100         0G      1.376      5.505      1.276        181        640:  ^C\n"
     ]
    }
   ],
   "source": [
    "! yolo task=detect \\\n",
    "mode=train \\\n",
    "model=yolov8s.pt \\\n",
    "data= path_to_your_annotation_zip_file \\\n",
    "epochs=100 \\\n",
    "imgsz=640"
   ]
  },
  {
   "cell_type": "markdown",
   "metadata": {},
   "source": [
    "Now Predict Your Model on One Image"
   ]
  },
  {
   "cell_type": "code",
   "execution_count": null,
   "metadata": {},
   "outputs": [],
   "source": [
    "from ultralytics import YOLO\n",
    "model = YOLO(\"yolov8n.pt\")\n",
    "image_path = \"path/to/your/image.jpg\"\n",
    "model.predict(source=image_path, show = True, conf = 0.5)"
   ]
  }
 ],
 "metadata": {
  "kernelspec": {
   "display_name": "roboflow",
   "language": "python",
   "name": "python3"
  },
  "language_info": {
   "codemirror_mode": {
    "name": "ipython",
    "version": 3
   },
   "file_extension": ".py",
   "mimetype": "text/x-python",
   "name": "python",
   "nbconvert_exporter": "python",
   "pygments_lexer": "ipython3",
   "version": "3.8.18"
  }
 },
 "nbformat": 4,
 "nbformat_minor": 2
}
